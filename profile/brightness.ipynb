{
 "cells": [
  {
   "cell_type": "code",
   "execution_count": 1,
   "metadata": {},
   "outputs": [],
   "source": [
    "import sys\n",
    "import os\n",
    "\n",
    "import numpy as np\n",
    "import pandas as pd\n",
    "\n",
    "sdt_path = \"..\"\n",
    "if sdt_path not in sys.path:\n",
    "    sys.path.insert(1, sdt_path)\n",
    "    \n",
    "from sdt import io, brightness"
   ]
  },
  {
   "cell_type": "code",
   "execution_count": 2,
   "metadata": {},
   "outputs": [],
   "source": [
    "%load_ext autoreload\n",
    "%autoreload 2"
   ]
  },
  {
   "cell_type": "code",
   "execution_count": 3,
   "metadata": {},
   "outputs": [],
   "source": [
    "%load_ext line_profiler"
   ]
  },
  {
   "cell_type": "code",
   "execution_count": 6,
   "metadata": {},
   "outputs": [],
   "source": [
    "img = np.load(os.path.join(\"..\", \"tests\", \"daostorm_3d\", \"data_find\", \"bead_img.npz\"))[\"img\"]\n",
    "local_max = np.load(os.path.join(\"..\", \"tests\", \"daostorm_3d\", \"data_find\", \"bead_finder.npz\"))[\"local_max\"]\n",
    "local_max = pd.DataFrame(local_max[:, [1, 3]], columns=[\"x\", \"y\"])"
   ]
  },
  {
   "cell_type": "code",
   "execution_count": 11,
   "metadata": {},
   "outputs": [],
   "source": [
    "def make_loc(n=1):\n",
    "    ret = []\n",
    "    for i in range(n):\n",
    "        l = local_max.copy()\n",
    "        l[\"frame\"] = i\n",
    "        ret.append(l)\n",
    "    return pd.concat(ret)"
   ]
  },
  {
   "cell_type": "code",
   "execution_count": 27,
   "metadata": {},
   "outputs": [],
   "source": [
    "n = 10\n",
    "loc = make_loc(n)\n",
    "loc2 = make_loc(n)\n",
    "frames = [img] * n"
   ]
  },
  {
   "cell_type": "code",
   "execution_count": 37,
   "metadata": {},
   "outputs": [
    {
     "name": "stdout",
     "output_type": "stream",
     "text": [
      "765 µs ± 5.22 µs per loop (mean ± std. dev. of 7 runs, 1000 loops each)\n"
     ]
    }
   ],
   "source": [
    "%timeit brightness.from_raw_image(loc, frames, 3, 2, engine=\"numba\")"
   ]
  },
  {
   "cell_type": "code",
   "execution_count": 31,
   "metadata": {},
   "outputs": [
    {
     "data": {
      "text/plain": [
       "Timer unit: 1e-06 s\n",
       "\n",
       "Total time: 0.001697 s\n",
       "File: ../sdt/brightness.py\n",
       "Function: from_raw_image at line 156\n",
       "\n",
       "Line #      Hits         Time  Per Hit   % Time  Line Contents\n",
       "==============================================================\n",
       "   156                                           def from_raw_image(positions, frames, radius, bg_frame=2, bg_estimator=\"mean\",\n",
       "   157                                                              pos_columns=pos_columns, engine=\"numba\"):\n",
       "   158                                               \"\"\"Determine particle brightness by counting pixel values\n",
       "   159                                           \n",
       "   160                                               Around each localization, all brightness values in a  2*`radius` + 1 times\n",
       "   161                                               square are added up. Additionally, background is locally determined by\n",
       "   162                                               calculating the mean brightness in a frame of `bg_frame` pixels width\n",
       "   163                                               around this box. This background is subtracted from the signal brightness.\n",
       "   164                                           \n",
       "   165                                               Parameters\n",
       "   166                                               ----------\n",
       "   167                                               positions : pandas.DataFrame\n",
       "   168                                                   Localization data. \"signal\", \"mass\", \"bg\", and \"bg_dev\"\n",
       "   169                                                   columns are added and/or replaced directly in this object.\n",
       "   170                                               frames : iterable of numpy.ndarrays\n",
       "   171                                                   Raw image data\n",
       "   172                                               radius : int\n",
       "   173                                                   Half width of the box in which pixel values are summed up. E. g.\n",
       "   174                                                   using ``radius=3`` leads to the summation of pixels in a square of\n",
       "   175                                                   2*3 + 1 = 7 pixels width.\n",
       "   176                                               bg_frame : int, optional\n",
       "   177                                                   Width of frame (in pixels) around a feature for background\n",
       "   178                                                   determination. Defaults to 2.\n",
       "   179                                               bg_estimator : {\"mean\", \"median\"} or numpy ufunc, optional\n",
       "   180                                                   How to determine the background from the background pixels. \"mean\"\n",
       "   181                                                   will use :py:func:`numpy.mean` and \"median\" will use\n",
       "   182                                                   :py:func:`numpy.median`. If a function is given (which takes the\n",
       "   183                                                   pixel data as arguments and returns a scalar), apply this to the\n",
       "   184                                                   pixels. Defaults to \"mean\".\n",
       "   185                                           \n",
       "   186                                               Other parameters\n",
       "   187                                               ----------------\n",
       "   188                                               pos_columns : list of str, optional\n",
       "   189                                                   Names of the columns describing the x and the y coordinates of the\n",
       "   190                                                   features in `positions`.\n",
       "   191                                               \"\"\"\n",
       "   192         1           15     15.0      0.9      if not len(positions):\n",
       "   193                                                   return\n",
       "   194                                           \n",
       "   195         1            2      2.0      0.1      if isinstance(bg_estimator, str):\n",
       "   196         1            2      2.0      0.1          bg_estimator = getattr(np, bg_estimator)\n",
       "   197                                           \n",
       "   198         1            1      1.0      0.1      if engine == \"numba\":\n",
       "   199         1            1      1.0      0.1          if len(pos_columns) != 2:\n",
       "   200                                                       warnings.warn(\"numba engine supports only 2D data. Falling back \"\n",
       "   201                                                                     \"to python backend.\")\n",
       "   202                                                       engine = \"python\"\n",
       "   203         1            0      0.0      0.0          if bg_estimator is np.mean:\n",
       "   204         1            0      0.0      0.0              bg_estimator = 0\n",
       "   205                                                   elif bg_estimator is np.median:\n",
       "   206                                                       bg_estimator = 1\n",
       "   207                                                   else:\n",
       "   208                                                       warnings.warn(\"numba engine supports only mean and median as \"\n",
       "   209                                                                     \"bg_estimators. Falling back to python backend.\")\n",
       "   210                                                       engine = \"python\"\n",
       "   211                                           \n",
       "   212                                               # Convert to numpy array for performance reasons\n",
       "   213                                               # This is faster than pos_matrix = positions[pos_columns].values\n",
       "   214         1            1      1.0      0.1      pos_matrix = []\n",
       "   215         3            3      1.0      0.2      for p in pos_columns:\n",
       "   216         2          291    145.5     17.1          pos_matrix.append(positions[p].values)\n",
       "   217         1           22     22.0      1.3      pos_matrix = np.array(pos_matrix).T\n",
       "   218         1           85     85.0      5.0      fno_matrix = positions[\"frame\"].values.astype(int)\n",
       "   219                                               # Pre-allocate result array\n",
       "   220         1            4      4.0      0.2      ret = np.empty((len(pos_matrix), 4))\n",
       "   221                                           \n",
       "   222         1            1      1.0      0.1      if engine == \"numba\":\n",
       "   223         1            1      1.0      0.1          worker = _from_raw_image_numba\n",
       "   224                                               elif engine == \"python\":\n",
       "   225                                                   worker = _from_raw_image_python\n",
       "   226                                               else:\n",
       "   227                                                   raise ValueError(\"Unknown engine \\\"{}\\\".\".format(engine))\n",
       "   228                                           \n",
       "   229         1          108    108.0      6.4      fnos = np.unique(fno_matrix)\n",
       "   230        11           18      1.6      1.1      for f in fnos:\n",
       "   231        10           45      4.5      2.7          current = (fno_matrix == f)\n",
       "   232        10           68      6.8      4.0          ret[current] = worker(pos_matrix[current], frames[f], radius, bg_frame,\n",
       "   233        10          480     48.0     28.3                                bg_estimator)\n",
       "   234                                           \n",
       "   235         1          195    195.0     11.5      positions[\"signal\"] = ret[:, 0]\n",
       "   236         1          125    125.0      7.4      positions[\"mass\"] = ret[:, 1]\n",
       "   237         1          116    116.0      6.8      positions[\"bg\"] = ret[:, 2]\n",
       "   238         1          113    113.0      6.7      positions[\"bg_dev\"] = ret[:, 3]"
      ]
     },
     "metadata": {},
     "output_type": "display_data"
    }
   ],
   "source": [
    "%lprun -f brightness.from_raw_image brightness.from_raw_image(loc, frames, 3, 2, engine=\"numba\")"
   ]
  },
  {
   "cell_type": "code",
   "execution_count": 39,
   "metadata": {},
   "outputs": [
    {
     "name": "stdout",
     "output_type": "stream",
     "text": [
      "36.4 ms ± 531 µs per loop (mean ± std. dev. of 7 runs, 10 loops each)\n"
     ]
    }
   ],
   "source": [
    "%timeit brightness.from_raw_image(loc2, frames, 3, 2, engine=\"python\")"
   ]
  },
  {
   "cell_type": "code",
   "execution_count": 40,
   "metadata": {},
   "outputs": [
    {
     "data": {
      "text/plain": [
       "Timer unit: 1e-06 s\n",
       "\n",
       "Total time: 0.080619 s\n",
       "File: ../sdt/brightness.py\n",
       "Function: from_raw_image at line 184\n",
       "\n",
       "Line #      Hits         Time  Per Hit   % Time  Line Contents\n",
       "==============================================================\n",
       "   184                                           def from_raw_image(positions, frames, radius, bg_frame=2, bg_estimator=\"mean\",\n",
       "   185                                                              pos_columns=pos_columns, engine=\"numba\"):\n",
       "   186                                               \"\"\"Determine particle brightness by counting pixel values\n",
       "   187                                           \n",
       "   188                                               Around each localization, all brightness values in a  2*`radius` + 1 times\n",
       "   189                                               square are added up. Additionally, background is locally determined by\n",
       "   190                                               calculating the mean brightness in a frame of `bg_frame` pixels width\n",
       "   191                                               around this box. This background is subtracted from the signal brightness.\n",
       "   192                                           \n",
       "   193                                               Parameters\n",
       "   194                                               ----------\n",
       "   195                                               positions : pandas.DataFrame\n",
       "   196                                                   Localization data. \"signal\", \"mass\", \"bg\", and \"bg_dev\"\n",
       "   197                                                   columns are added and/or replaced directly in this object.\n",
       "   198                                               frames : iterable of numpy.ndarrays\n",
       "   199                                                   Raw image data\n",
       "   200                                               radius : int\n",
       "   201                                                   Half width of the box in which pixel values are summed up. E. g.\n",
       "   202                                                   using ``radius=3`` leads to the summation of pixels in a square of\n",
       "   203                                                   2*3 + 1 = 7 pixels width.\n",
       "   204                                               bg_frame : int, optional\n",
       "   205                                                   Width of frame (in pixels) around a feature for background\n",
       "   206                                                   determination. Defaults to 2.\n",
       "   207                                               bg_estimator : {\"mean\", \"median\"} or numpy ufunc, optional\n",
       "   208                                                   How to determine the background from the background pixels. \"mean\"\n",
       "   209                                                   will use :py:func:`numpy.mean` and \"median\" will use\n",
       "   210                                                   :py:func:`numpy.median`. If a function is given (which takes the\n",
       "   211                                                   pixel data as arguments and returns a scalar), apply this to the\n",
       "   212                                                   pixels. Defaults to \"mean\".\n",
       "   213                                           \n",
       "   214                                               Other parameters\n",
       "   215                                               ----------------\n",
       "   216                                               pos_columns : list of str, optional\n",
       "   217                                                   Names of the columns describing the x and the y coordinates of the\n",
       "   218                                                   features in `positions`.\n",
       "   219                                               engine : {\"numba\", \"python\"}, optional\n",
       "   220                                                   Numba is faster, but only supports 2D data and mean or median\n",
       "   221                                                   bg_estimator. If numba cannot be used, automatically fall back to\n",
       "   222                                                   pure python, which support arbitray dimensions and bg_estimator\n",
       "   223                                                   functions. Defaults to \"numba\".\n",
       "   224                                               \"\"\"\n",
       "   225         1           16     16.0      0.0      if not len(positions):\n",
       "   226                                                   return\n",
       "   227                                           \n",
       "   228         1            3      3.0      0.0      if isinstance(bg_estimator, str):\n",
       "   229         1            3      3.0      0.0          bg_estimator = getattr(np, bg_estimator)\n",
       "   230                                           \n",
       "   231         1            2      2.0      0.0      if engine == \"numba\":\n",
       "   232                                                   if len(pos_columns) != 2:\n",
       "   233                                                       warnings.warn(\"numba engine supports only 2D data. Falling back \"\n",
       "   234                                                                     \"to python backend.\")\n",
       "   235                                                       engine = \"python\"\n",
       "   236                                                   if bg_estimator is np.mean:\n",
       "   237                                                       bg_estimator = 0\n",
       "   238                                                   elif bg_estimator is np.median:\n",
       "   239                                                       bg_estimator = 1\n",
       "   240                                                   else:\n",
       "   241                                                       warnings.warn(\"numba engine supports only mean and median as \"\n",
       "   242                                                                     \"bg_estimators. Falling back to python backend.\")\n",
       "   243                                                       engine = \"python\"\n",
       "   244                                           \n",
       "   245                                               # Convert to numpy array for performance reasons\n",
       "   246                                               # This is faster than pos_matrix = positions[pos_columns].values\n",
       "   247         1            1      1.0      0.0      pos_matrix = []\n",
       "   248         3            9      3.0      0.0      for p in pos_columns:\n",
       "   249         2          488    244.0      0.6          pos_matrix.append(positions[p].values)\n",
       "   250         1           31     31.0      0.0      pos_matrix = np.array(pos_matrix).T\n",
       "   251         1          198    198.0      0.2      fno_matrix = positions[\"frame\"].values.astype(int)\n",
       "   252                                               # Pre-allocate result array\n",
       "   253         1            8      8.0      0.0      ret = np.empty((len(pos_matrix), 4))\n",
       "   254                                           \n",
       "   255         1            2      2.0      0.0      if engine == \"numba\":\n",
       "   256                                                   worker = _from_raw_image_numba\n",
       "   257         1            1      1.0      0.0      elif engine == \"python\":\n",
       "   258         1            1      1.0      0.0          worker = _from_raw_image_python\n",
       "   259                                               else:\n",
       "   260                                                   raise ValueError(\"Unknown engine \\\"{}\\\".\".format(engine))\n",
       "   261                                           \n",
       "   262         1          249    249.0      0.3      fnos = np.unique(fno_matrix)\n",
       "   263        11           28      2.5      0.0      for f in fnos:\n",
       "   264        10           74      7.4      0.1          current = (fno_matrix == f)\n",
       "   265        10          112     11.2      0.1          ret[current] = worker(pos_matrix[current], frames[f], radius, bg_frame,\n",
       "   266        10        78755   7875.5     97.7                                bg_estimator)\n",
       "   267                                           \n",
       "   268         1          228    228.0      0.3      positions[\"signal\"] = ret[:, 0]\n",
       "   269         1          150    150.0      0.2      positions[\"mass\"] = ret[:, 1]\n",
       "   270         1          132    132.0      0.2      positions[\"bg\"] = ret[:, 2]\n",
       "   271         1          128    128.0      0.2      positions[\"bg_dev\"] = ret[:, 3]"
      ]
     },
     "metadata": {},
     "output_type": "display_data"
    }
   ],
   "source": [
    "%lprun -f brightness.from_raw_image brightness.from_raw_image(loc2, frames, 3, 2, engine=\"python\")"
   ]
  },
  {
   "cell_type": "code",
   "execution_count": null,
   "metadata": {},
   "outputs": [],
   "source": []
  }
 ],
 "metadata": {
  "kernelspec": {
   "display_name": "Python 3",
   "language": "python",
   "name": "python3"
  },
  "language_info": {
   "codemirror_mode": {
    "name": "ipython",
    "version": 3
   },
   "file_extension": ".py",
   "mimetype": "text/x-python",
   "name": "python",
   "nbconvert_exporter": "python",
   "pygments_lexer": "ipython3",
   "version": "3.6.4"
  }
 },
 "nbformat": 4,
 "nbformat_minor": 2
}
